{
 "cells": [
  {
   "cell_type": "code",
   "execution_count": 1,
   "metadata": {},
   "outputs": [],
   "source": [
    "import numpy as np\n",
    "import scipy.signal as sg\n",
    "from pathlib import Path\n",
    "import scipy.stats as ss\n",
    "import networkx as nx\n",
    "import matplotlib.pyplot as plt\n",
    "from itertools import combinations"
   ]
  },
  {
   "cell_type": "code",
   "execution_count": 2,
   "metadata": {},
   "outputs": [],
   "source": [
    "fs_bold = 1 / 0.72 # Hz sampling rate"
   ]
  },
  {
   "cell_type": "code",
   "execution_count": 3,
   "metadata": {},
   "outputs": [
    {
     "name": "stdout",
     "output_type": "stream",
     "text": [
      "Using DEVICE = cuda\n",
      "[DataLoader] Loaded 100 subjects.\n",
      "[DataLoader] Created 1100 chunks (chunk length = 100).\n"
     ]
    }
   ],
   "source": [
    "import argparse, json, os, numpy as np, torch\n",
    "from pathlib import Path\n",
    "import matplotlib.pyplot as plt\n",
    "\n",
    "from whobpyt.data_loader import BOLDDataLoader, DEVICE\n",
    "from simulators.rww_simulator import RWWSubjectSimulator\n",
    "from whobpyt.custom_cost_RWW import CostsRWW\n",
    "from whobpyt.modelfitting import Model_fitting\n",
    "from whobpyt.utils.fc_tools import bold_to_fc\n",
    "from whobpyt.utils.plot_fc_windows import plot_fc_grid\n",
    "from whobpyt.utils.plotter import heatmap_fc   \n",
    "\n",
    "data_root = \"/vol/bitbucket/ank121/fyp/HCP Data\"\n",
    "chunk_length = 100\n",
    "lr = 0.1\n",
    "epochs = 30\n",
    "step = 0.05\n",
    "g = 1000.0\n",
    "lambda_rate, lambda_spec, lambda_disp = 0.05, 0.05, 0.03\n",
    "\n",
    "fmri = os.path.join(data_root, \"BOLD Timeseries HCP.mat\")\n",
    "scdir = os.path.join(data_root, \"distance_matrices\")\n",
    "dist  = os.path.join(data_root, \"schaefer100_dist.npy\")\n",
    "\n",
    "loader = BOLDDataLoader(fmri, scdir, dist, chunk_length)\n",
    "loader._split_into_chunks()\n",
    "\n",
    "subj = 18\n",
    "ts_emp = loader.all_bold[subj]\n",
    "fc_emp = bold_to_fc(ts_emp)"
   ]
  },
  {
   "cell_type": "code",
   "execution_count": null,
   "metadata": {},
   "outputs": [],
   "source": [
    "\n",
    "print(f\"[+] chunk={chunk_length} lr={lr} step={step} g={g}\")\n",
    "label = f\"sub{subj:03d}_chunk{chunk}_gEE{1}_gEI{1}\"\n",
    "sc = loader.get_subject_connectome(subj, norm=True)\n",
    "sim = RWWSubjectSimulator(sc, sc.shape[0], TP_per_window=chunk_length, fit_g_EE=True, fit_g_IE=True, fit_g_EI=False, \n",
    "                        use_bifurcation=False, step_size=step, g_init=g, use_fic=False)\n",
    "sim.model.to(DEVICE)\n",
    "\n",
    "\n",
    "train_window_length = 900\n",
    "emp_FCs = loader.train_fc_windows(subj, win_len=train_window_length)\n",
    "train_num_windows = train_window_length // chunk_length\n",
    "\n",
    "cost = CostsRWW(sim.model,\n",
    "                use_rate_reg = lambda_rate > 0, lambda_rate = lambda_rate,\n",
    "                use_spec_reg = lambda_spec > 0, lambda_spec = lambda_spec,\n",
    "                use_disp_reg = lambda_disp > 0, lambda_disp = lambda_disp,\n",
    "                verbose=False)\n",
    "fitter = Model_fitting(sim.model, cost, device=DEVICE)\n",
    "fitter.train(u=0, empFcs=emp_FCs, num_epochs=epochs,\n",
    "            num_windows=train_num_windows, learningrate=lr, early_stopping=True)\n",
    "\n",
    "test_num_windows = ts_emp.shape[1] // chunk_length\n",
    "ts_sim, fc_sim = sim.simulate(u=0, num_windows=test_num_windows, base_window_num=10)\n",
    "tri = np.tril_indices_from(fc_sim, k=-1)\n",
    "r = np.corrcoef(fc_sim[tri], fc_emp[tri])[0, 1]\n",
    "\n",
    "print(f\"- Entire TS FC-corr test = {r:.3f} -\")\n"
   ]
  },
  {
   "cell_type": "code",
   "execution_count": 11,
   "metadata": {},
   "outputs": [],
   "source": [
    "SAVE_DIR = Path(\"simulated_outputs\"); SAVE_DIR.mkdir(parents=True, exist_ok=True)\n",
    "label = f\"sub{subj:03d}\"\n",
    "# np.save(SAVE_DIR / f\"{label}.npy\", ts_sim)\n",
    "\n",
    "ts_sim = np.load(SAVE_DIR / f\"{label}.npy\")\n",
    "fc_sim = bold_to_fc(ts_sim)"
   ]
  },
  {
   "cell_type": "code",
   "execution_count": 5,
   "metadata": {},
   "outputs": [],
   "source": [
    "def fcd_matrix(ts, wind=60, step=30):\n",
    "    \"\"\" Sliding-window FCD (Pearson's correlation of FC-vectors)  \"\"\"\n",
    "    N, T = ts.shape\n",
    "    idx = range(0, T - wind + 1, step)\n",
    "    fc_vecs = []\n",
    "    tri = np.tril_indices(N, -1)\n",
    "    for s in idx:\n",
    "        fc = np.corrcoef(ts[:, s:s+wind])\n",
    "        fc_vecs.append(fc[tri])\n",
    "    fc_vecs = np.stack(fc_vecs)                # (W, E)\n",
    "    F = np.corrcoef(fc_vecs)\n",
    "    return F\n",
    "\n",
    "def compare_fcd_ks(ts_emp, ts_sim, wind=60, step=30, ax=None):\n",
    "    \"\"\" Kolmogorov-Smirnov distance betweent wo FCD matrices' off-diagonal distributions \"\"\"\n",
    "    F_emp = fcd_matrix(ts_emp[:, :ts_sim.shape[1]], wind, step)\n",
    "    F_sim = fcd_matrix(ts_sim, wind, step)\n",
    "    tri = np.triu_indices_from(F_emp, k=1)\n",
    "    ks_d = ss.ks_2samp(F_emp[tri], F_sim[tri]).statistic\n",
    "    \n",
    "    if ax is not None:\n",
    "        ax.hist(F_emp[tri], bins=40, alpha=.4, label='emp')\n",
    "        ax.hist(F_sim[tri], bins=40, alpha=.4, label='sim')\n",
    "        ax.set_title(f\"FCD hist - KS {ks_d:.3f}\"); ax.legend()\n",
    "    return ks_d"
   ]
  },
  {
   "cell_type": "code",
   "execution_count": 6,
   "metadata": {},
   "outputs": [
    {
     "data": {
      "image/png": "[encoded data removed]",
      "text/plain": [
       "<Figure size 1000x600 with 1 Axes>"
      ]
     },
     "metadata": {},
     "output_type": "display_data"
    },
    {
     "name": "stdout",
     "output_type": "stream",
     "text": [
      "Kolmogorov-Smirnov distance between FCD distributions: 0.727\n"
     ]
    }
   ],
   "source": [
    "\n",
    "fig, ax = plt.subplots(figsize=(10, 6))\n",
    "ks_distance = compare_fcd_ks(ts_emp, ts_sim, wind=60, step=30, ax=ax)\n",
    "plt.title(f\"FCD Comparison - KS Distance: {ks_distance:.3f}\")\n",
    "plt.show()\n",
    "\n",
    "assert 0 <= ks_distance <= 1, \"KS distance outside expected range (0-1)\"\n",
    "\n",
    "print(f\"Kolmogorov-Smirnov distance between FCD distributions: {ks_distance:.3f}\")\n"
   ]
  },
  {
   "cell_type": "code",
   "execution_count": 33,
   "metadata": {},
   "outputs": [],
   "source": [
    "## State dwell-times - expect to see to see multi-state transitions\n",
    "\n",
    "from sklearn.cluster import KMeans\n",
    "\n",
    "def fc_vectors(ts, wind=60, step=60):\n",
    "    N, T = ts.shape\n",
    "    tri = np.tril_indices(N, -1)\n",
    "    vecs = []\n",
    "    for s in range(0, T - wind + 1, step):\n",
    "        fc = np.corrcoef(ts[:, s:s+wind])\n",
    "        vecs.append(fc[tri])\n",
    "    return np.array(vecs)    # (W, E)\n",
    "\n",
    "def state_dwell_and_transition(ts_emp, ts_sim, n_states=5, wind=60):\n",
    "    # Get non-overlapping vector flattened FC matrices\n",
    "    V_emp = fc_vectors(ts_emp[:, :ts_sim.shape[1]], wind, wind)\n",
    "    V_sim = fc_vectors(ts_sim, wind, wind)\n",
    "\n",
    "    km = KMeans(n_clusters=n_states, n_init=50, random_state=0).fit(V_emp)\n",
    "    lab_emp = km.predict(V_emp)\n",
    "    lab_sim = km.predict(V_sim)\n",
    "\n",
    "    print(lab_emp)\n",
    "    print(lab_sim)\n",
    "\n",
    "    def dwell(labels, k):\n",
    "        counts = np.bincount(labels, minlength=k)\n",
    "        return counts / counts.sum()\n",
    "    dwell_emp = dwell(lab_emp, n_states)\n",
    "    dwell_sim = dwell(lab_sim, n_states)\n",
    "    dwell_diff = np.abs(dwell_emp - dwell_sim).sum()\n",
    "    \n",
    "    def trans_mat(labels, k):\n",
    "        T = np.ones((k, k))\n",
    "        for a, b in zip(labels[:-1], labels[1:]):\n",
    "            T[a, b] += 1\n",
    "        print(T)\n",
    "        T = T / (T.sum(axis=1, keepdims=True))\n",
    "        return T\n",
    "    P_emp = trans_mat(lab_emp, n_states)\n",
    "    P_sim = trans_mat(lab_sim, n_states)\n",
    "    print(P_emp.shape)\n",
    "    print(P_emp)\n",
    "    print(P_sim.shape)\n",
    "    print(P_sim)\n",
    "    transition_norm = np.linalg.norm(P_emp - P_sim, ord='fro')\n",
    "    \n",
    "    return dwell_diff, transition_norm\n"
   ]
  },
  {
   "cell_type": "code",
   "execution_count": 34,
   "metadata": {},
   "outputs": [
    {
     "name": "stdout",
     "output_type": "stream",
     "text": [
      "[1 1 1 4 4 1 4 1 4 4 4 4 4 1 4 4 3 4 3]\n",
      "[2 2 3 4 4 2 4 1 2 2 1 1 3 3 4 1 1 1 0]\n",
      "[[1. 1. 1. 1. 1.]\n",
      " [1. 3. 1. 1. 5.]\n",
      " [1. 1. 1. 1. 1.]\n",
      " [1. 1. 1. 1. 2.]\n",
      " [1. 4. 1. 3. 7.]]\n",
      "[[1. 1. 1. 1. 1.]\n",
      " [2. 4. 2. 2. 1.]\n",
      " [1. 2. 3. 2. 2.]\n",
      " [1. 1. 1. 2. 3.]\n",
      " [1. 3. 2. 1. 2.]]\n",
      "(5, 5)\n",
      "[[0.2        0.2        0.2        0.2        0.2       ]\n",
      " [0.09090909 0.27272727 0.09090909 0.09090909 0.45454545]\n",
      " [0.2        0.2        0.2        0.2        0.2       ]\n",
      " [0.16666667 0.16666667 0.16666667 0.16666667 0.33333333]\n",
      " [0.0625     0.25       0.0625     0.1875     0.4375    ]]\n",
      "(5, 5)\n",
      "[[0.2        0.2        0.2        0.2        0.2       ]\n",
      " [0.18181818 0.36363636 0.18181818 0.18181818 0.09090909]\n",
      " [0.1        0.2        0.3        0.2        0.2       ]\n",
      " [0.125      0.125      0.125      0.25       0.375     ]\n",
      " [0.11111111 0.33333333 0.22222222 0.11111111 0.22222222]]\n",
      "dwell L1 = 0.74, ΔP Fro = 0.53\n"
     ]
    }
   ],
   "source": [
    "dw, tr = state_dwell_and_transition(ts_emp, ts_sim)\n",
    "print(f\"dwell L1 = {dw:.2f}, ΔP Fro = {tr:.2f}\")\n",
    "assert dw >= 0 and tr >= 0"
   ]
  },
  {
   "cell_type": "code",
   "execution_count": 7,
   "metadata": {},
   "outputs": [],
   "source": [
    "def spectral_slope(ts, fs=1/0.72, f_lo=0.02, f_hi=0.10):\n",
    "    \"\"\" Average PSD across regions, regress log-power on log-freq.\n",
    "        Returns +β so 1/f^β \n",
    "    \"\"\"\n",
    "    N, T = ts.shape\n",
    "    # Welch across entire run\n",
    "    f, Pxx = sg.welch(ts, fs=fs, nperseg=T//4, axis=1)\n",
    "    mask = (f >= f_lo) & (f <= f_hi)\n",
    "    x = np.log(f[mask]); y = np.log(Pxx[:, mask].mean(axis=0))\n",
    "    beta, _ = np.polyfit(x, y, 1)\n",
    "    return -beta      # make positive\n",
    "    \n",
    "def spectral_slope_error(ts_emp, ts_sim):\n",
    "    beta_emp = spectral_slope(ts_emp)\n",
    "    beta_sim = spectral_slope(ts_sim[:, :ts_emp.shape[1]])\n",
    "    return abs(beta_emp - beta_sim), beta_emp, beta_sim\n"
   ]
  },
  {
   "cell_type": "code",
   "execution_count": 8,
   "metadata": {},
   "outputs": [
    {
     "name": "stdout",
     "output_type": "stream",
     "text": [
      "β_emp=2.61, β_sim=1.11, |Δ|=1.50\n"
     ]
    }
   ],
   "source": [
    "err, b_e, b_s = spectral_slope_error(ts_emp, ts_sim)\n",
    "print(f\"β_emp={b_e:.2f}, β_sim={b_s:.2f}, |Δ|={err:.2f}\")\n",
    "assert err < 2, \"Slope difference seems too large – check units?\"\n"
   ]
  },
  {
   "cell_type": "code",
   "execution_count": 9,
   "metadata": {},
   "outputs": [],
   "source": [
    "def graph_metrics(fc, k_prop=.10):\n",
    "    \"\"\"\n",
    "    Threshold at top k_prop edges, return dict of metrics.\n",
    "    \"\"\"\n",
    "    fc = fc.copy()\n",
    "    np.fill_diagonal(fc, 0)\n",
    "    # proportional threshold\n",
    "    thr = np.quantile(fc, 1 - k_prop)\n",
    "    adj = (fc * (fc >= thr)).astype(float)\n",
    "    G   = nx.from_numpy_array(adj)\n",
    "    \n",
    "    clust = np.mean(list(nx.clustering(G, weight='weight').values()))\n",
    "    modularity = nx.algorithms.community.modularity(G, nx.algorithms.community.louvain_communities(G, seed=0), weight='weight')\n",
    "    eff_glob = nx.global_efficiency(G)\n",
    "    # small-worldness σ ≈ (C/Crand)/(L/Lrand)\n",
    "    n_rand = 10\n",
    "    Crand, Lrand = [], []\n",
    "    for _ in range(n_rand):\n",
    "        Gr = nx.algorithms.smallworld.random_reference(G, nswap=10*G.number_of_edges())\n",
    "        Crand.append(np.mean(list(nx.clustering(Gr).values())))\n",
    "        Lrand.append(nx.average_shortest_path_length(Gr))\n",
    "    C  = clust\n",
    "    L  = nx.average_shortest_path_length(G)\n",
    "    sigma = (C/np.mean(Crand)) / (L/np.mean(Lrand))\n",
    "    \n",
    "    return dict(C=C, Q=modularity, Eglob=eff_glob, sigma=sigma)\n",
    "\n",
    "def graph_static_error(fc_emp, fc_sim):\n",
    "    m_emp = graph_metrics(fc_emp)\n",
    "    m_sim = graph_metrics(fc_sim)\n",
    "    print(m_emp)\n",
    "    print(m_sim)\n",
    "    return {k: abs(m_emp[k]-m_sim[k]) for k in m_emp.keys()}, m_emp, m_sim\n"
   ]
  },
  {
   "cell_type": "code",
   "execution_count": 12,
   "metadata": {},
   "outputs": [
    {
     "ename": "TypeError",
     "evalue": "random_reference() got an unexpected keyword argument 'nswap'",
     "output_type": "error",
     "traceback": [
      "\u001b[0;31m---------------------------------------------------------------------------\u001b[0m",
      "\u001b[0;31mTypeError\u001b[0m                                 Traceback (most recent call last)",
      "Cell \u001b[0;32mIn[12], line 1\u001b[0m\n\u001b[0;32m----> 1\u001b[0m errs, \u001b[38;5;241m*\u001b[39m_ \u001b[38;5;241m=\u001b[39m \u001b[43mgraph_static_error\u001b[49m\u001b[43m(\u001b[49m\u001b[43mfc_emp\u001b[49m\u001b[43m,\u001b[49m\u001b[43m \u001b[49m\u001b[43mfc_sim\u001b[49m\u001b[43m)\u001b[49m\n\u001b[1;32m      2\u001b[0m \u001b[38;5;28mprint\u001b[39m(\u001b[38;5;124m\"\u001b[39m\u001b[38;5;124mGraph metric |Δ|\u001b[39m\u001b[38;5;124m\"\u001b[39m, errs)\n",
      "Cell \u001b[0;32mIn[9], line 29\u001b[0m, in \u001b[0;36mgraph_static_error\u001b[0;34m(fc_emp, fc_sim)\u001b[0m\n\u001b[1;32m     28\u001b[0m \u001b[38;5;28;01mdef\u001b[39;00m\u001b[38;5;250m \u001b[39m\u001b[38;5;21mgraph_static_error\u001b[39m(fc_emp, fc_sim):\n\u001b[0;32m---> 29\u001b[0m     m_emp \u001b[38;5;241m=\u001b[39m \u001b[43mgraph_metrics\u001b[49m\u001b[43m(\u001b[49m\u001b[43mfc_emp\u001b[49m\u001b[43m)\u001b[49m\n\u001b[1;32m     30\u001b[0m     m_sim \u001b[38;5;241m=\u001b[39m graph_metrics(fc_sim)\n\u001b[1;32m     31\u001b[0m     \u001b[38;5;28mprint\u001b[39m(m_emp)\n",
      "Cell \u001b[0;32mIn[9], line 19\u001b[0m, in \u001b[0;36mgraph_metrics\u001b[0;34m(fc, k_prop)\u001b[0m\n\u001b[1;32m     17\u001b[0m Crand, Lrand \u001b[38;5;241m=\u001b[39m [], []\n\u001b[1;32m     18\u001b[0m \u001b[38;5;28;01mfor\u001b[39;00m _ \u001b[38;5;129;01min\u001b[39;00m \u001b[38;5;28mrange\u001b[39m(n_rand):\n\u001b[0;32m---> 19\u001b[0m     Gr \u001b[38;5;241m=\u001b[39m \u001b[43mnx\u001b[49m\u001b[38;5;241;43m.\u001b[39;49m\u001b[43malgorithms\u001b[49m\u001b[38;5;241;43m.\u001b[39;49m\u001b[43msmallworld\u001b[49m\u001b[38;5;241;43m.\u001b[39;49m\u001b[43mrandom_reference\u001b[49m\u001b[43m(\u001b[49m\u001b[43mG\u001b[49m\u001b[43m,\u001b[49m\u001b[43m \u001b[49m\u001b[43mnswap\u001b[49m\u001b[38;5;241;43m=\u001b[39;49m\u001b[38;5;241;43m10\u001b[39;49m\u001b[38;5;241;43m*\u001b[39;49m\u001b[43mG\u001b[49m\u001b[38;5;241;43m.\u001b[39;49m\u001b[43mnumber_of_edges\u001b[49m\u001b[43m(\u001b[49m\u001b[43m)\u001b[49m\u001b[43m)\u001b[49m\n\u001b[1;32m     20\u001b[0m     Crand\u001b[38;5;241m.\u001b[39mappend(np\u001b[38;5;241m.\u001b[39mmean(\u001b[38;5;28mlist\u001b[39m(nx\u001b[38;5;241m.\u001b[39mclustering(Gr)\u001b[38;5;241m.\u001b[39mvalues())))\n\u001b[1;32m     21\u001b[0m     Lrand\u001b[38;5;241m.\u001b[39mappend(nx\u001b[38;5;241m.\u001b[39maverage_shortest_path_length(Gr))\n",
      "File \u001b[0;32m/vol/bitbucket/ank121/dlenv/lib/python3.12/site-packages/networkx/utils/decorators.py:788\u001b[0m, in \u001b[0;36margmap.__call__.<locals>.func\u001b[0;34m(_argmap__wrapper, *args, **kwargs)\u001b[0m\n\u001b[1;32m    787\u001b[0m \u001b[38;5;28;01mdef\u001b[39;00m\u001b[38;5;250m \u001b[39m\u001b[38;5;21mfunc\u001b[39m(\u001b[38;5;241m*\u001b[39margs, __wrapper\u001b[38;5;241m=\u001b[39m\u001b[38;5;28;01mNone\u001b[39;00m, \u001b[38;5;241m*\u001b[39m\u001b[38;5;241m*\u001b[39mkwargs):\n\u001b[0;32m--> 788\u001b[0m     \u001b[38;5;28;01mreturn\u001b[39;00m \u001b[43margmap\u001b[49m\u001b[38;5;241;43m.\u001b[39;49m\u001b[43m_lazy_compile\u001b[49m\u001b[43m(\u001b[49m\u001b[43m__wrapper\u001b[49m\u001b[43m)\u001b[49m\u001b[43m(\u001b[49m\u001b[38;5;241;43m*\u001b[39;49m\u001b[43margs\u001b[49m\u001b[43m,\u001b[49m\u001b[43m \u001b[49m\u001b[38;5;241;43m*\u001b[39;49m\u001b[38;5;241;43m*\u001b[39;49m\u001b[43mkwargs\u001b[49m\u001b[43m)\u001b[49m\n",
      "File \u001b[0;32m<class 'networkx.utils.decorators.argmap'> compilation 58:6\u001b[0m, in \u001b[0;36margmap_random_reference_52\u001b[0;34m(G, niter, connectivity, seed, backend, **backend_kwargs)\u001b[0m\n\u001b[1;32m      4\u001b[0m \u001b[38;5;28;01mimport\u001b[39;00m\u001b[38;5;250m \u001b[39m\u001b[38;5;21;01minspect\u001b[39;00m\n\u001b[1;32m      5\u001b[0m \u001b[38;5;28;01mimport\u001b[39;00m\u001b[38;5;250m \u001b[39m\u001b[38;5;21;01mitertools\u001b[39;00m\n\u001b[0;32m----> 6\u001b[0m \u001b[38;5;28;01mimport\u001b[39;00m\u001b[38;5;250m \u001b[39m\u001b[38;5;21;01mre\u001b[39;00m\n\u001b[1;32m      7\u001b[0m \u001b[38;5;28;01mimport\u001b[39;00m\u001b[38;5;250m \u001b[39m\u001b[38;5;21;01mwarnings\u001b[39;00m\n\u001b[1;32m      8\u001b[0m \u001b[38;5;28;01mfrom\u001b[39;00m\u001b[38;5;250m \u001b[39m\u001b[38;5;21;01mcollections\u001b[39;00m\u001b[38;5;250m \u001b[39m\u001b[38;5;28;01mimport\u001b[39;00m defaultdict\n",
      "File \u001b[0;32m/vol/bitbucket/ank121/dlenv/lib/python3.12/site-packages/networkx/utils/backends.py:967\u001b[0m, in \u001b[0;36m_dispatchable.__call__\u001b[0;34m(self, backend, *args, **kwargs)\u001b[0m\n\u001b[1;32m    965\u001b[0m     \u001b[38;5;28;01mif\u001b[39;00m backend \u001b[38;5;129;01mis\u001b[39;00m \u001b[38;5;129;01mnot\u001b[39;00m \u001b[38;5;28;01mNone\u001b[39;00m \u001b[38;5;129;01mand\u001b[39;00m backend \u001b[38;5;241m!=\u001b[39m \u001b[38;5;124m\"\u001b[39m\u001b[38;5;124mnetworkx\u001b[39m\u001b[38;5;124m\"\u001b[39m:\n\u001b[1;32m    966\u001b[0m         \u001b[38;5;28;01mraise\u001b[39;00m \u001b[38;5;167;01mImportError\u001b[39;00m(\u001b[38;5;124mf\u001b[39m\u001b[38;5;124m\"\u001b[39m\u001b[38;5;124m'\u001b[39m\u001b[38;5;132;01m{\u001b[39;00mbackend\u001b[38;5;132;01m}\u001b[39;00m\u001b[38;5;124m'\u001b[39m\u001b[38;5;124m backend is not installed\u001b[39m\u001b[38;5;124m\"\u001b[39m)\n\u001b[0;32m--> 967\u001b[0m     \u001b[38;5;28;01mreturn\u001b[39;00m \u001b[38;5;28;43mself\u001b[39;49m\u001b[38;5;241;43m.\u001b[39;49m\u001b[43morig_func\u001b[49m\u001b[43m(\u001b[49m\u001b[38;5;241;43m*\u001b[39;49m\u001b[43margs\u001b[49m\u001b[43m,\u001b[49m\u001b[43m \u001b[49m\u001b[38;5;241;43m*\u001b[39;49m\u001b[38;5;241;43m*\u001b[39;49m\u001b[43mkwargs\u001b[49m\u001b[43m)\u001b[49m\n\u001b[1;32m    969\u001b[0m \u001b[38;5;66;03m# Use `backend_name` in this function instead of `backend`.\u001b[39;00m\n\u001b[1;32m    970\u001b[0m \u001b[38;5;66;03m# This is purely for aesthetics and to make it easier to search for this\u001b[39;00m\n\u001b[1;32m    971\u001b[0m \u001b[38;5;66;03m# variable since \"backend\" is used in many comments and log/error messages.\u001b[39;00m\n\u001b[1;32m    972\u001b[0m backend_name \u001b[38;5;241m=\u001b[39m backend\n",
      "\u001b[0;31mTypeError\u001b[0m: random_reference() got an unexpected keyword argument 'nswap'"
     ]
    }
   ],
   "source": [
    "errs, *_ = graph_static_error(fc_emp, fc_sim)\n",
    "print(\"Graph metric |Δ|\", errs)\n"
   ]
  },
  {
   "cell_type": "code",
   "execution_count": 15,
   "metadata": {},
   "outputs": [
    {
     "data": {
      "text/plain": [
       "(0.04325888001190814, 0.15987768597874605, 0.11661880596683791)"
      ]
     },
     "execution_count": 15,
     "metadata": {},
     "output_type": "execute_result"
    }
   ],
   "source": [
    "def kuramoto_order(ts, band=(0.04, 0.07), fs=1/0.72):\n",
    "    \"\"\"\n",
    "    Band-pass ➜ phase ➜ R(t)\n",
    "    \"\"\"\n",
    "    b, a = sg.butter(3, np.array(band)/(fs/2), btype='band')\n",
    "    phased = np.angle(sg.hilbert(sg.filtfilt(b, a, ts, axis=1)))\n",
    "    R = np.abs(np.mean(np.exp(1j*phased), axis=0))\n",
    "    return R\n",
    "\n",
    "def metastability_error(ts_emp, ts_sim):\n",
    "    R_emp = kuramoto_order(ts_emp[:, :ts_sim.shape[1]])\n",
    "    R_sim = kuramoto_order(ts_sim)\n",
    "    return abs(R_emp.std() - R_sim.std()), R_emp.std(), R_sim.std()\n",
    "\n",
    "metastability_error(ts_emp, ts_sim)"
   ]
  },
  {
   "cell_type": "code",
   "execution_count": 18,
   "metadata": {},
   "outputs": [
    {
     "name": "stdout",
     "output_type": "stream",
     "text": [
      "(100, 1189)\n",
      "(0.0, 0.16769964672028953, 0.16769964672028953)\n",
      "(0.06761153245753865, 0.11661880596683791, 0.04900727350929925)\n"
     ]
    }
   ],
   "source": [
    "ts_rand = np.random.rand(*ts_emp.shape)\n",
    "print(ts_rand.shape)\n",
    "print(metastability_error(ts_emp, ts_rand))\n",
    "print(metastability_error(ts_sim, ts_rand))"
   ]
  },
  {
   "cell_type": "code",
   "execution_count": null,
   "metadata": {},
   "outputs": [],
   "source": []
  }
 ],
 "metadata": {
  "kernelspec": {
   "display_name": "Python (dlenv)",
   "language": "python",
   "name": "dl-env"
  }
 },
 "nbformat": 4,
 "nbformat_minor": 2
}
